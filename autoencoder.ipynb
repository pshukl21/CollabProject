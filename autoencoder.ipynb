{
 "cells": [
  {
   "cell_type": "code",
   "execution_count": 1,
   "id": "84070a70",
   "metadata": {},
   "outputs": [],
   "source": [
    "import pandas as pd\n",
    "import os\n",
    "import numpy as np\n",
    "import torch\n",
    "import torch.nn as nn\n",
    "import torch.nn.functional as F\n",
    "from torch.utils.data import DataLoader\n",
    "from torchvision import datasets \n",
    "from torchvision import transforms\n",
    "from sklearn.preprocessing import StandardScaler\n",
    "import matplotlib.pyplot as plt\n",
    "from IPython.display import clear_output\n",
    "import seaborn as sns"
   ]
  },
  {
   "cell_type": "markdown",
   "id": "10b93785",
   "metadata": {},
   "source": [
    "# __Autoencoder__"
   ]
  },
  {
   "cell_type": "markdown",
   "id": "a2582a7e",
   "metadata": {},
   "source": [
    "### __Step 1.__ Prepare training data\n",
    "1. We need to make sure all categorical varialbes are one-hot encoded.\n",
    "2. Then 'mask' values (replace with 0s?) in corrupted training\n",
    "3. Add normal/poisson noise to continuous variables (depending on scale)\n",
    "4. Drop unneeded variables"
   ]
  },
  {
   "cell_type": "code",
   "execution_count": 2,
   "id": "fd368346",
   "metadata": {},
   "outputs": [],
   "source": [
    "df_games = pd.read_csv(\"df_games_output.csv\")\n",
    "df_games.drop(columns=['gameId','gameDate'],inplace=True)"
   ]
  },
  {
   "cell_type": "markdown",
   "id": "d075fdad",
   "metadata": {},
   "source": [
    "Imputation"
   ]
  },
  {
   "cell_type": "code",
   "execution_count": 3,
   "id": "16347b63",
   "metadata": {},
   "outputs": [
    {
     "name": "stderr",
     "output_type": "stream",
     "text": [
      "C:\\Users\\Matth\\AppData\\Local\\Temp\\ipykernel_15836\\3076076711.py:5: FutureWarning: A value is trying to be set on a copy of a DataFrame or Series through chained assignment using an inplace method.\n",
      "The behavior will change in pandas 3.0. This inplace method will never work because the intermediate object on which we are setting values always behaves as a copy.\n",
      "\n",
      "For example, when doing 'df[col].method(value, inplace=True)', try using 'df.method({col: value}, inplace=True)' or df[col] = df[col].method(value) instead, to perform the operation inplace on the original object.\n",
      "\n",
      "\n",
      "  df_games[col].fillna(df_games[col].median(), inplace=True)\n",
      "C:\\Users\\Matth\\AppData\\Local\\Temp\\ipykernel_15836\\3076076711.py:5: FutureWarning: A value is trying to be set on a copy of a DataFrame or Series through chained assignment using an inplace method.\n",
      "The behavior will change in pandas 3.0. This inplace method will never work because the intermediate object on which we are setting values always behaves as a copy.\n",
      "\n",
      "For example, when doing 'df[col].method(value, inplace=True)', try using 'df.method({col: value}, inplace=True)' or df[col] = df[col].method(value) instead, to perform the operation inplace on the original object.\n",
      "\n",
      "\n",
      "  df_games[col].fillna(df_games[col].median(), inplace=True)\n",
      "C:\\Users\\Matth\\AppData\\Local\\Temp\\ipykernel_15836\\3076076711.py:5: FutureWarning: A value is trying to be set on a copy of a DataFrame or Series through chained assignment using an inplace method.\n",
      "The behavior will change in pandas 3.0. This inplace method will never work because the intermediate object on which we are setting values always behaves as a copy.\n",
      "\n",
      "For example, when doing 'df[col].method(value, inplace=True)', try using 'df.method({col: value}, inplace=True)' or df[col] = df[col].method(value) instead, to perform the operation inplace on the original object.\n",
      "\n",
      "\n",
      "  df_games[col].fillna(df_games[col].median(), inplace=True)\n",
      "C:\\Users\\Matth\\AppData\\Local\\Temp\\ipykernel_15836\\3076076711.py:5: FutureWarning: A value is trying to be set on a copy of a DataFrame or Series through chained assignment using an inplace method.\n",
      "The behavior will change in pandas 3.0. This inplace method will never work because the intermediate object on which we are setting values always behaves as a copy.\n",
      "\n",
      "For example, when doing 'df[col].method(value, inplace=True)', try using 'df.method({col: value}, inplace=True)' or df[col] = df[col].method(value) instead, to perform the operation inplace on the original object.\n",
      "\n",
      "\n",
      "  df_games[col].fillna(df_games[col].median(), inplace=True)\n",
      "C:\\Users\\Matth\\AppData\\Local\\Temp\\ipykernel_15836\\3076076711.py:5: FutureWarning: A value is trying to be set on a copy of a DataFrame or Series through chained assignment using an inplace method.\n",
      "The behavior will change in pandas 3.0. This inplace method will never work because the intermediate object on which we are setting values always behaves as a copy.\n",
      "\n",
      "For example, when doing 'df[col].method(value, inplace=True)', try using 'df.method({col: value}, inplace=True)' or df[col] = df[col].method(value) instead, to perform the operation inplace on the original object.\n",
      "\n",
      "\n",
      "  df_games[col].fillna(df_games[col].median(), inplace=True)\n",
      "C:\\Users\\Matth\\AppData\\Local\\Temp\\ipykernel_15836\\3076076711.py:5: FutureWarning: A value is trying to be set on a copy of a DataFrame or Series through chained assignment using an inplace method.\n",
      "The behavior will change in pandas 3.0. This inplace method will never work because the intermediate object on which we are setting values always behaves as a copy.\n",
      "\n",
      "For example, when doing 'df[col].method(value, inplace=True)', try using 'df.method({col: value}, inplace=True)' or df[col] = df[col].method(value) instead, to perform the operation inplace on the original object.\n",
      "\n",
      "\n",
      "  df_games[col].fillna(df_games[col].median(), inplace=True)\n",
      "C:\\Users\\Matth\\AppData\\Local\\Temp\\ipykernel_15836\\3076076711.py:5: FutureWarning: A value is trying to be set on a copy of a DataFrame or Series through chained assignment using an inplace method.\n",
      "The behavior will change in pandas 3.0. This inplace method will never work because the intermediate object on which we are setting values always behaves as a copy.\n",
      "\n",
      "For example, when doing 'df[col].method(value, inplace=True)', try using 'df.method({col: value}, inplace=True)' or df[col] = df[col].method(value) instead, to perform the operation inplace on the original object.\n",
      "\n",
      "\n",
      "  df_games[col].fillna(df_games[col].median(), inplace=True)\n",
      "C:\\Users\\Matth\\AppData\\Local\\Temp\\ipykernel_15836\\3076076711.py:5: FutureWarning: A value is trying to be set on a copy of a DataFrame or Series through chained assignment using an inplace method.\n",
      "The behavior will change in pandas 3.0. This inplace method will never work because the intermediate object on which we are setting values always behaves as a copy.\n",
      "\n",
      "For example, when doing 'df[col].method(value, inplace=True)', try using 'df.method({col: value}, inplace=True)' or df[col] = df[col].method(value) instead, to perform the operation inplace on the original object.\n",
      "\n",
      "\n",
      "  df_games[col].fillna(df_games[col].median(), inplace=True)\n",
      "C:\\Users\\Matth\\AppData\\Local\\Temp\\ipykernel_15836\\3076076711.py:5: FutureWarning: A value is trying to be set on a copy of a DataFrame or Series through chained assignment using an inplace method.\n",
      "The behavior will change in pandas 3.0. This inplace method will never work because the intermediate object on which we are setting values always behaves as a copy.\n",
      "\n",
      "For example, when doing 'df[col].method(value, inplace=True)', try using 'df.method({col: value}, inplace=True)' or df[col] = df[col].method(value) instead, to perform the operation inplace on the original object.\n",
      "\n",
      "\n",
      "  df_games[col].fillna(df_games[col].median(), inplace=True)\n",
      "C:\\Users\\Matth\\AppData\\Local\\Temp\\ipykernel_15836\\3076076711.py:5: FutureWarning: A value is trying to be set on a copy of a DataFrame or Series through chained assignment using an inplace method.\n",
      "The behavior will change in pandas 3.0. This inplace method will never work because the intermediate object on which we are setting values always behaves as a copy.\n",
      "\n",
      "For example, when doing 'df[col].method(value, inplace=True)', try using 'df.method({col: value}, inplace=True)' or df[col] = df[col].method(value) instead, to perform the operation inplace on the original object.\n",
      "\n",
      "\n",
      "  df_games[col].fillna(df_games[col].median(), inplace=True)\n",
      "C:\\Users\\Matth\\AppData\\Local\\Temp\\ipykernel_15836\\3076076711.py:5: FutureWarning: A value is trying to be set on a copy of a DataFrame or Series through chained assignment using an inplace method.\n",
      "The behavior will change in pandas 3.0. This inplace method will never work because the intermediate object on which we are setting values always behaves as a copy.\n",
      "\n",
      "For example, when doing 'df[col].method(value, inplace=True)', try using 'df.method({col: value}, inplace=True)' or df[col] = df[col].method(value) instead, to perform the operation inplace on the original object.\n",
      "\n",
      "\n",
      "  df_games[col].fillna(df_games[col].median(), inplace=True)\n",
      "C:\\Users\\Matth\\AppData\\Local\\Temp\\ipykernel_15836\\3076076711.py:5: FutureWarning: A value is trying to be set on a copy of a DataFrame or Series through chained assignment using an inplace method.\n",
      "The behavior will change in pandas 3.0. This inplace method will never work because the intermediate object on which we are setting values always behaves as a copy.\n",
      "\n",
      "For example, when doing 'df[col].method(value, inplace=True)', try using 'df.method({col: value}, inplace=True)' or df[col] = df[col].method(value) instead, to perform the operation inplace on the original object.\n",
      "\n",
      "\n",
      "  df_games[col].fillna(df_games[col].median(), inplace=True)\n",
      "C:\\Users\\Matth\\AppData\\Local\\Temp\\ipykernel_15836\\3076076711.py:5: FutureWarning: A value is trying to be set on a copy of a DataFrame or Series through chained assignment using an inplace method.\n",
      "The behavior will change in pandas 3.0. This inplace method will never work because the intermediate object on which we are setting values always behaves as a copy.\n",
      "\n",
      "For example, when doing 'df[col].method(value, inplace=True)', try using 'df.method({col: value}, inplace=True)' or df[col] = df[col].method(value) instead, to perform the operation inplace on the original object.\n",
      "\n",
      "\n",
      "  df_games[col].fillna(df_games[col].median(), inplace=True)\n",
      "C:\\Users\\Matth\\AppData\\Local\\Temp\\ipykernel_15836\\3076076711.py:5: FutureWarning: A value is trying to be set on a copy of a DataFrame or Series through chained assignment using an inplace method.\n",
      "The behavior will change in pandas 3.0. This inplace method will never work because the intermediate object on which we are setting values always behaves as a copy.\n",
      "\n",
      "For example, when doing 'df[col].method(value, inplace=True)', try using 'df.method({col: value}, inplace=True)' or df[col] = df[col].method(value) instead, to perform the operation inplace on the original object.\n",
      "\n",
      "\n",
      "  df_games[col].fillna(df_games[col].median(), inplace=True)\n",
      "C:\\Users\\Matth\\AppData\\Local\\Temp\\ipykernel_15836\\3076076711.py:5: FutureWarning: A value is trying to be set on a copy of a DataFrame or Series through chained assignment using an inplace method.\n",
      "The behavior will change in pandas 3.0. This inplace method will never work because the intermediate object on which we are setting values always behaves as a copy.\n",
      "\n",
      "For example, when doing 'df[col].method(value, inplace=True)', try using 'df.method({col: value}, inplace=True)' or df[col] = df[col].method(value) instead, to perform the operation inplace on the original object.\n",
      "\n",
      "\n",
      "  df_games[col].fillna(df_games[col].median(), inplace=True)\n",
      "C:\\Users\\Matth\\AppData\\Local\\Temp\\ipykernel_15836\\3076076711.py:5: FutureWarning: A value is trying to be set on a copy of a DataFrame or Series through chained assignment using an inplace method.\n",
      "The behavior will change in pandas 3.0. This inplace method will never work because the intermediate object on which we are setting values always behaves as a copy.\n",
      "\n",
      "For example, when doing 'df[col].method(value, inplace=True)', try using 'df.method({col: value}, inplace=True)' or df[col] = df[col].method(value) instead, to perform the operation inplace on the original object.\n",
      "\n",
      "\n",
      "  df_games[col].fillna(df_games[col].median(), inplace=True)\n",
      "C:\\Users\\Matth\\AppData\\Local\\Temp\\ipykernel_15836\\3076076711.py:5: FutureWarning: A value is trying to be set on a copy of a DataFrame or Series through chained assignment using an inplace method.\n",
      "The behavior will change in pandas 3.0. This inplace method will never work because the intermediate object on which we are setting values always behaves as a copy.\n",
      "\n",
      "For example, when doing 'df[col].method(value, inplace=True)', try using 'df.method({col: value}, inplace=True)' or df[col] = df[col].method(value) instead, to perform the operation inplace on the original object.\n",
      "\n",
      "\n",
      "  df_games[col].fillna(df_games[col].median(), inplace=True)\n",
      "C:\\Users\\Matth\\AppData\\Local\\Temp\\ipykernel_15836\\3076076711.py:5: FutureWarning: A value is trying to be set on a copy of a DataFrame or Series through chained assignment using an inplace method.\n",
      "The behavior will change in pandas 3.0. This inplace method will never work because the intermediate object on which we are setting values always behaves as a copy.\n",
      "\n",
      "For example, when doing 'df[col].method(value, inplace=True)', try using 'df.method({col: value}, inplace=True)' or df[col] = df[col].method(value) instead, to perform the operation inplace on the original object.\n",
      "\n",
      "\n",
      "  df_games[col].fillna(df_games[col].median(), inplace=True)\n",
      "C:\\Users\\Matth\\AppData\\Local\\Temp\\ipykernel_15836\\3076076711.py:5: FutureWarning: A value is trying to be set on a copy of a DataFrame or Series through chained assignment using an inplace method.\n",
      "The behavior will change in pandas 3.0. This inplace method will never work because the intermediate object on which we are setting values always behaves as a copy.\n",
      "\n",
      "For example, when doing 'df[col].method(value, inplace=True)', try using 'df.method({col: value}, inplace=True)' or df[col] = df[col].method(value) instead, to perform the operation inplace on the original object.\n",
      "\n",
      "\n",
      "  df_games[col].fillna(df_games[col].median(), inplace=True)\n",
      "C:\\Users\\Matth\\AppData\\Local\\Temp\\ipykernel_15836\\3076076711.py:5: FutureWarning: A value is trying to be set on a copy of a DataFrame or Series through chained assignment using an inplace method.\n",
      "The behavior will change in pandas 3.0. This inplace method will never work because the intermediate object on which we are setting values always behaves as a copy.\n",
      "\n",
      "For example, when doing 'df[col].method(value, inplace=True)', try using 'df.method({col: value}, inplace=True)' or df[col] = df[col].method(value) instead, to perform the operation inplace on the original object.\n",
      "\n",
      "\n",
      "  df_games[col].fillna(df_games[col].median(), inplace=True)\n",
      "C:\\Users\\Matth\\AppData\\Local\\Temp\\ipykernel_15836\\3076076711.py:5: FutureWarning: A value is trying to be set on a copy of a DataFrame or Series through chained assignment using an inplace method.\n",
      "The behavior will change in pandas 3.0. This inplace method will never work because the intermediate object on which we are setting values always behaves as a copy.\n",
      "\n",
      "For example, when doing 'df[col].method(value, inplace=True)', try using 'df.method({col: value}, inplace=True)' or df[col] = df[col].method(value) instead, to perform the operation inplace on the original object.\n",
      "\n",
      "\n",
      "  df_games[col].fillna(df_games[col].median(), inplace=True)\n",
      "C:\\Users\\Matth\\AppData\\Local\\Temp\\ipykernel_15836\\3076076711.py:5: FutureWarning: A value is trying to be set on a copy of a DataFrame or Series through chained assignment using an inplace method.\n",
      "The behavior will change in pandas 3.0. This inplace method will never work because the intermediate object on which we are setting values always behaves as a copy.\n",
      "\n",
      "For example, when doing 'df[col].method(value, inplace=True)', try using 'df.method({col: value}, inplace=True)' or df[col] = df[col].method(value) instead, to perform the operation inplace on the original object.\n",
      "\n",
      "\n",
      "  df_games[col].fillna(df_games[col].median(), inplace=True)\n",
      "C:\\Users\\Matth\\AppData\\Local\\Temp\\ipykernel_15836\\3076076711.py:5: FutureWarning: A value is trying to be set on a copy of a DataFrame or Series through chained assignment using an inplace method.\n",
      "The behavior will change in pandas 3.0. This inplace method will never work because the intermediate object on which we are setting values always behaves as a copy.\n",
      "\n",
      "For example, when doing 'df[col].method(value, inplace=True)', try using 'df.method({col: value}, inplace=True)' or df[col] = df[col].method(value) instead, to perform the operation inplace on the original object.\n",
      "\n",
      "\n",
      "  df_games[col].fillna(df_games[col].median(), inplace=True)\n",
      "C:\\Users\\Matth\\AppData\\Local\\Temp\\ipykernel_15836\\3076076711.py:5: FutureWarning: A value is trying to be set on a copy of a DataFrame or Series through chained assignment using an inplace method.\n",
      "The behavior will change in pandas 3.0. This inplace method will never work because the intermediate object on which we are setting values always behaves as a copy.\n",
      "\n",
      "For example, when doing 'df[col].method(value, inplace=True)', try using 'df.method({col: value}, inplace=True)' or df[col] = df[col].method(value) instead, to perform the operation inplace on the original object.\n",
      "\n",
      "\n",
      "  df_games[col].fillna(df_games[col].median(), inplace=True)\n",
      "C:\\Users\\Matth\\AppData\\Local\\Temp\\ipykernel_15836\\3076076711.py:5: FutureWarning: A value is trying to be set on a copy of a DataFrame or Series through chained assignment using an inplace method.\n",
      "The behavior will change in pandas 3.0. This inplace method will never work because the intermediate object on which we are setting values always behaves as a copy.\n",
      "\n",
      "For example, when doing 'df[col].method(value, inplace=True)', try using 'df.method({col: value}, inplace=True)' or df[col] = df[col].method(value) instead, to perform the operation inplace on the original object.\n",
      "\n",
      "\n",
      "  df_games[col].fillna(df_games[col].median(), inplace=True)\n",
      "C:\\Users\\Matth\\AppData\\Local\\Temp\\ipykernel_15836\\3076076711.py:5: FutureWarning: A value is trying to be set on a copy of a DataFrame or Series through chained assignment using an inplace method.\n",
      "The behavior will change in pandas 3.0. This inplace method will never work because the intermediate object on which we are setting values always behaves as a copy.\n",
      "\n",
      "For example, when doing 'df[col].method(value, inplace=True)', try using 'df.method({col: value}, inplace=True)' or df[col] = df[col].method(value) instead, to perform the operation inplace on the original object.\n",
      "\n",
      "\n",
      "  df_games[col].fillna(df_games[col].median(), inplace=True)\n",
      "C:\\Users\\Matth\\AppData\\Local\\Temp\\ipykernel_15836\\3076076711.py:5: FutureWarning: A value is trying to be set on a copy of a DataFrame or Series through chained assignment using an inplace method.\n",
      "The behavior will change in pandas 3.0. This inplace method will never work because the intermediate object on which we are setting values always behaves as a copy.\n",
      "\n",
      "For example, when doing 'df[col].method(value, inplace=True)', try using 'df.method({col: value}, inplace=True)' or df[col] = df[col].method(value) instead, to perform the operation inplace on the original object.\n",
      "\n",
      "\n",
      "  df_games[col].fillna(df_games[col].median(), inplace=True)\n",
      "C:\\Users\\Matth\\AppData\\Local\\Temp\\ipykernel_15836\\3076076711.py:5: FutureWarning: A value is trying to be set on a copy of a DataFrame or Series through chained assignment using an inplace method.\n",
      "The behavior will change in pandas 3.0. This inplace method will never work because the intermediate object on which we are setting values always behaves as a copy.\n",
      "\n",
      "For example, when doing 'df[col].method(value, inplace=True)', try using 'df.method({col: value}, inplace=True)' or df[col] = df[col].method(value) instead, to perform the operation inplace on the original object.\n",
      "\n",
      "\n",
      "  df_games[col].fillna(df_games[col].median(), inplace=True)\n",
      "C:\\Users\\Matth\\AppData\\Local\\Temp\\ipykernel_15836\\3076076711.py:5: FutureWarning: A value is trying to be set on a copy of a DataFrame or Series through chained assignment using an inplace method.\n",
      "The behavior will change in pandas 3.0. This inplace method will never work because the intermediate object on which we are setting values always behaves as a copy.\n",
      "\n",
      "For example, when doing 'df[col].method(value, inplace=True)', try using 'df.method({col: value}, inplace=True)' or df[col] = df[col].method(value) instead, to perform the operation inplace on the original object.\n",
      "\n",
      "\n",
      "  df_games[col].fillna(df_games[col].median(), inplace=True)\n",
      "C:\\Users\\Matth\\AppData\\Local\\Temp\\ipykernel_15836\\3076076711.py:5: FutureWarning: A value is trying to be set on a copy of a DataFrame or Series through chained assignment using an inplace method.\n",
      "The behavior will change in pandas 3.0. This inplace method will never work because the intermediate object on which we are setting values always behaves as a copy.\n",
      "\n",
      "For example, when doing 'df[col].method(value, inplace=True)', try using 'df.method({col: value}, inplace=True)' or df[col] = df[col].method(value) instead, to perform the operation inplace on the original object.\n",
      "\n",
      "\n",
      "  df_games[col].fillna(df_games[col].median(), inplace=True)\n",
      "C:\\Users\\Matth\\AppData\\Local\\Temp\\ipykernel_15836\\3076076711.py:5: FutureWarning: A value is trying to be set on a copy of a DataFrame or Series through chained assignment using an inplace method.\n",
      "The behavior will change in pandas 3.0. This inplace method will never work because the intermediate object on which we are setting values always behaves as a copy.\n",
      "\n",
      "For example, when doing 'df[col].method(value, inplace=True)', try using 'df.method({col: value}, inplace=True)' or df[col] = df[col].method(value) instead, to perform the operation inplace on the original object.\n",
      "\n",
      "\n",
      "  df_games[col].fillna(df_games[col].median(), inplace=True)\n",
      "C:\\Users\\Matth\\AppData\\Local\\Temp\\ipykernel_15836\\3076076711.py:5: FutureWarning: A value is trying to be set on a copy of a DataFrame or Series through chained assignment using an inplace method.\n",
      "The behavior will change in pandas 3.0. This inplace method will never work because the intermediate object on which we are setting values always behaves as a copy.\n",
      "\n",
      "For example, when doing 'df[col].method(value, inplace=True)', try using 'df.method({col: value}, inplace=True)' or df[col] = df[col].method(value) instead, to perform the operation inplace on the original object.\n",
      "\n",
      "\n",
      "  df_games[col].fillna(df_games[col].median(), inplace=True)\n",
      "C:\\Users\\Matth\\AppData\\Local\\Temp\\ipykernel_15836\\3076076711.py:5: FutureWarning: A value is trying to be set on a copy of a DataFrame or Series through chained assignment using an inplace method.\n",
      "The behavior will change in pandas 3.0. This inplace method will never work because the intermediate object on which we are setting values always behaves as a copy.\n",
      "\n",
      "For example, when doing 'df[col].method(value, inplace=True)', try using 'df.method({col: value}, inplace=True)' or df[col] = df[col].method(value) instead, to perform the operation inplace on the original object.\n",
      "\n",
      "\n",
      "  df_games[col].fillna(df_games[col].median(), inplace=True)\n",
      "C:\\Users\\Matth\\AppData\\Local\\Temp\\ipykernel_15836\\3076076711.py:5: FutureWarning: A value is trying to be set on a copy of a DataFrame or Series through chained assignment using an inplace method.\n",
      "The behavior will change in pandas 3.0. This inplace method will never work because the intermediate object on which we are setting values always behaves as a copy.\n",
      "\n",
      "For example, when doing 'df[col].method(value, inplace=True)', try using 'df.method({col: value}, inplace=True)' or df[col] = df[col].method(value) instead, to perform the operation inplace on the original object.\n",
      "\n",
      "\n",
      "  df_games[col].fillna(df_games[col].median(), inplace=True)\n",
      "C:\\Users\\Matth\\AppData\\Local\\Temp\\ipykernel_15836\\3076076711.py:5: FutureWarning: A value is trying to be set on a copy of a DataFrame or Series through chained assignment using an inplace method.\n",
      "The behavior will change in pandas 3.0. This inplace method will never work because the intermediate object on which we are setting values always behaves as a copy.\n",
      "\n",
      "For example, when doing 'df[col].method(value, inplace=True)', try using 'df.method({col: value}, inplace=True)' or df[col] = df[col].method(value) instead, to perform the operation inplace on the original object.\n",
      "\n",
      "\n",
      "  df_games[col].fillna(df_games[col].median(), inplace=True)\n",
      "C:\\Users\\Matth\\AppData\\Local\\Temp\\ipykernel_15836\\3076076711.py:5: FutureWarning: A value is trying to be set on a copy of a DataFrame or Series through chained assignment using an inplace method.\n",
      "The behavior will change in pandas 3.0. This inplace method will never work because the intermediate object on which we are setting values always behaves as a copy.\n",
      "\n",
      "For example, when doing 'df[col].method(value, inplace=True)', try using 'df.method({col: value}, inplace=True)' or df[col] = df[col].method(value) instead, to perform the operation inplace on the original object.\n",
      "\n",
      "\n",
      "  df_games[col].fillna(df_games[col].median(), inplace=True)\n",
      "C:\\Users\\Matth\\AppData\\Local\\Temp\\ipykernel_15836\\3076076711.py:5: FutureWarning: A value is trying to be set on a copy of a DataFrame or Series through chained assignment using an inplace method.\n",
      "The behavior will change in pandas 3.0. This inplace method will never work because the intermediate object on which we are setting values always behaves as a copy.\n",
      "\n",
      "For example, when doing 'df[col].method(value, inplace=True)', try using 'df.method({col: value}, inplace=True)' or df[col] = df[col].method(value) instead, to perform the operation inplace on the original object.\n",
      "\n",
      "\n",
      "  df_games[col].fillna(df_games[col].median(), inplace=True)\n"
     ]
    }
   ],
   "source": [
    "# Impute missing values with the mean for numerical columns\n",
    "for col in df_games.columns:\n",
    "    if df_games[col].isna().sum() > 0:  # Check if the column has missing values\n",
    "        if df_games[col].dtype in ['float64', 'int64']:  # Only for numerical columns\n",
    "            df_games[col].fillna(df_games[col].median(), inplace=True)\n",
    "        if df_games[col].dtype == 'object':\n",
    "            df_games[col].fillna('Missing', inplace=True)"
   ]
  },
  {
   "cell_type": "code",
   "execution_count": 4,
   "id": "759ea376",
   "metadata": {},
   "outputs": [],
   "source": [
    "# should show NO columns after imputation\n",
    "for col in df_games.columns:\n",
    "    if df_games[col].isna().sum() > 0:  # Check if the column has missing values\n",
    "        print(f\"Column {col} still has missing values after imputation.\")"
   ]
  },
  {
   "cell_type": "markdown",
   "id": "c2e2a66f",
   "metadata": {},
   "source": [
    "Turning `winner` into a PyTorch tensor"
   ]
  },
  {
   "cell_type": "code",
   "execution_count": 5,
   "id": "0f78cdb8",
   "metadata": {},
   "outputs": [
    {
     "name": "stdout",
     "output_type": "stream",
     "text": [
      "One hot winner shape: torch.Size([50581, 33])\n"
     ]
    },
    {
     "data": {
      "text/plain": [
       "tensor([[0., 0., 0.,  ..., 0., 0., 0.],\n",
       "        [0., 1., 0.,  ..., 0., 0., 0.],\n",
       "        [0., 0., 0.,  ..., 0., 0., 0.],\n",
       "        ...,\n",
       "        [0., 0., 0.,  ..., 0., 0., 0.],\n",
       "        [0., 0., 0.,  ..., 0., 0., 0.],\n",
       "        [0., 0., 0.,  ..., 0., 0., 0.]])"
      ]
     },
     "execution_count": 5,
     "metadata": {},
     "output_type": "execute_result"
    }
   ],
   "source": [
    "# creating team to index mapping for use with home team, away team, and winner one-hot encoded feaures\n",
    "unique_teams = df_games['hometeamName'].unique()\n",
    "team_to_index = {team: idx for idx, team in enumerate(unique_teams)}\n",
    "labels_winner = torch.tensor(df_games['winner'].map(team_to_index).values)\n",
    "one_hot_winner = F.one_hot(labels_winner,num_classes=len(unique_teams)).float()\n",
    "print(f\"One hot winner shape: {one_hot_winner.shape}\")\n",
    "one_hot_winner\n",
    "# 33 features for 33 unique teams"
   ]
  },
  {
   "cell_type": "code",
   "execution_count": 6,
   "id": "5c4407a8",
   "metadata": {},
   "outputs": [
    {
     "data": {
      "text/plain": [
       "['winner_Jazz',\n",
       " 'winner_Kings',\n",
       " 'winner_Thunder',\n",
       " 'winner_Hawks',\n",
       " 'winner_Pistons',\n",
       " 'winner_Pacers',\n",
       " 'winner_76ers',\n",
       " 'winner_Wizards',\n",
       " 'winner_Timberwolves',\n",
       " 'winner_Pelicans',\n",
       " 'winner_Cavaliers',\n",
       " 'winner_Magic',\n",
       " 'winner_Raptors',\n",
       " 'winner_Bucks',\n",
       " 'winner_Warriors',\n",
       " 'winner_Celtics',\n",
       " 'winner_Trail Blazers',\n",
       " 'winner_Nuggets',\n",
       " 'winner_Bulls',\n",
       " 'winner_Rockets',\n",
       " 'winner_Spurs',\n",
       " 'winner_Mavericks',\n",
       " 'winner_Nets',\n",
       " 'winner_Knicks',\n",
       " 'winner_Clippers',\n",
       " 'winner_Suns',\n",
       " 'winner_Lakers',\n",
       " 'winner_Heat',\n",
       " 'winner_Grizzlies',\n",
       " 'winner_Hornets',\n",
       " 'winner_Bobcats',\n",
       " 'winner_SuperSonics',\n",
       " 'winner_Bullets']"
      ]
     },
     "execution_count": 6,
     "metadata": {},
     "output_type": "execute_result"
    }
   ],
   "source": [
    "winner_features = [\"winner_\" + team for team in df_games['hometeamName'].unique()]\n",
    "winner_features\n",
    "# df_games['winner'] = df_games['winner'].map(team_to_index)\n",
    "# df_games['winner']"
   ]
  },
  {
   "cell_type": "markdown",
   "id": "8ea5132e",
   "metadata": {},
   "source": [
    "Turning `hometeamName` into a PyTorch tensor"
   ]
  },
  {
   "cell_type": "code",
   "execution_count": 7,
   "id": "f9650d44",
   "metadata": {},
   "outputs": [
    {
     "name": "stdout",
     "output_type": "stream",
     "text": [
      "torch.Size([50581, 33])\n"
     ]
    },
    {
     "data": {
      "text/plain": [
       "tensor([[1., 0., 0.,  ..., 0., 0., 0.],\n",
       "        [0., 1., 0.,  ..., 0., 0., 0.],\n",
       "        [1., 0., 0.,  ..., 0., 0., 0.],\n",
       "        ...,\n",
       "        [0., 0., 0.,  ..., 0., 0., 0.],\n",
       "        [0., 0., 0.,  ..., 0., 0., 0.],\n",
       "        [0., 0., 0.,  ..., 0., 0., 0.]])"
      ]
     },
     "execution_count": 7,
     "metadata": {},
     "output_type": "execute_result"
    }
   ],
   "source": [
    "unique_teams = df_games['hometeamName'].unique()\n",
    "team_to_index = {team: idx for idx, team in enumerate(unique_teams)}\n",
    "labels_hometeam = torch.tensor(df_games['hometeamName'].map(team_to_index).values)\n",
    "one_hot_hometeam = F.one_hot(labels_hometeam, num_classes=len(unique_teams)).float()\n",
    "print(one_hot_hometeam.shape)\n",
    "one_hot_hometeam\n",
    "\n",
    "# tensor has a column for each team (index 0 to 32) and the 0th index of the column is 1 if that row is the first team (Jazz)\n",
    "# 33 home teams"
   ]
  },
  {
   "cell_type": "code",
   "execution_count": 8,
   "id": "c7c17f38",
   "metadata": {},
   "outputs": [
    {
     "data": {
      "text/plain": [
       "['hometeam_Jazz',\n",
       " 'hometeam_Kings',\n",
       " 'hometeam_Thunder',\n",
       " 'hometeam_Hawks',\n",
       " 'hometeam_Pistons',\n",
       " 'hometeam_Pacers',\n",
       " 'hometeam_76ers',\n",
       " 'hometeam_Wizards',\n",
       " 'hometeam_Timberwolves',\n",
       " 'hometeam_Pelicans',\n",
       " 'hometeam_Cavaliers',\n",
       " 'hometeam_Magic',\n",
       " 'hometeam_Raptors',\n",
       " 'hometeam_Bucks',\n",
       " 'hometeam_Warriors',\n",
       " 'hometeam_Celtics',\n",
       " 'hometeam_Trail Blazers',\n",
       " 'hometeam_Nuggets',\n",
       " 'hometeam_Bulls',\n",
       " 'hometeam_Rockets',\n",
       " 'hometeam_Spurs',\n",
       " 'hometeam_Mavericks',\n",
       " 'hometeam_Nets',\n",
       " 'hometeam_Knicks',\n",
       " 'hometeam_Clippers',\n",
       " 'hometeam_Suns',\n",
       " 'hometeam_Lakers',\n",
       " 'hometeam_Heat',\n",
       " 'hometeam_Grizzlies',\n",
       " 'hometeam_Hornets',\n",
       " 'hometeam_Bobcats',\n",
       " 'hometeam_SuperSonics',\n",
       " 'hometeam_Bullets']"
      ]
     },
     "execution_count": 8,
     "metadata": {},
     "output_type": "execute_result"
    }
   ],
   "source": [
    "hometeam_features = ['hometeam_' + key for key in team_to_index.keys()]\n",
    "hometeam_features"
   ]
  },
  {
   "cell_type": "markdown",
   "id": "c596b68a",
   "metadata": {},
   "source": [
    "Turning `awayteamName` into a PyTorch tensor"
   ]
  },
  {
   "cell_type": "code",
   "execution_count": 9,
   "id": "f708fb3b",
   "metadata": {},
   "outputs": [
    {
     "data": {
      "text/plain": [
       "tensor([[0., 0., 0.,  ..., 0., 0., 0.],\n",
       "        [0., 0., 0.,  ..., 0., 0., 0.],\n",
       "        [0., 0., 0.,  ..., 0., 0., 0.],\n",
       "        ...,\n",
       "        [0., 0., 0.,  ..., 0., 0., 0.],\n",
       "        [0., 0., 0.,  ..., 0., 0., 0.],\n",
       "        [0., 0., 0.,  ..., 0., 0., 1.]])"
      ]
     },
     "execution_count": 9,
     "metadata": {},
     "output_type": "execute_result"
    }
   ],
   "source": [
    "labels_awayteam = torch.tensor(df_games['awayteamName'].map(team_to_index).values)\n",
    "one_hot_awayteam = F.one_hot(labels_awayteam, num_classes=len(unique_teams)).float()\n",
    "one_hot_awayteam\n",
    "# 33 away teams"
   ]
  },
  {
   "cell_type": "code",
   "execution_count": 10,
   "id": "17047f92",
   "metadata": {},
   "outputs": [
    {
     "data": {
      "text/plain": [
       "['awayteam_Jazz',\n",
       " 'awayteam_Kings',\n",
       " 'awayteam_Thunder',\n",
       " 'awayteam_Hawks',\n",
       " 'awayteam_Pistons',\n",
       " 'awayteam_Pacers',\n",
       " 'awayteam_76ers',\n",
       " 'awayteam_Wizards',\n",
       " 'awayteam_Timberwolves',\n",
       " 'awayteam_Pelicans',\n",
       " 'awayteam_Cavaliers',\n",
       " 'awayteam_Magic',\n",
       " 'awayteam_Raptors',\n",
       " 'awayteam_Bucks',\n",
       " 'awayteam_Warriors',\n",
       " 'awayteam_Celtics',\n",
       " 'awayteam_Trail Blazers',\n",
       " 'awayteam_Nuggets',\n",
       " 'awayteam_Bulls',\n",
       " 'awayteam_Rockets',\n",
       " 'awayteam_Spurs',\n",
       " 'awayteam_Mavericks',\n",
       " 'awayteam_Nets',\n",
       " 'awayteam_Knicks',\n",
       " 'awayteam_Clippers',\n",
       " 'awayteam_Suns',\n",
       " 'awayteam_Lakers',\n",
       " 'awayteam_Heat',\n",
       " 'awayteam_Grizzlies',\n",
       " 'awayteam_Hornets',\n",
       " 'awayteam_Bobcats',\n",
       " 'awayteam_SuperSonics',\n",
       " 'awayteam_Bullets']"
      ]
     },
     "execution_count": 10,
     "metadata": {},
     "output_type": "execute_result"
    }
   ],
   "source": [
    "awayteam_features = ['awayteam_' + key for key in team_to_index.keys()]\n",
    "awayteam_features"
   ]
  },
  {
   "cell_type": "markdown",
   "id": "334d1c7a",
   "metadata": {},
   "source": [
    "Turning `gameType` into a PyTorch tensor"
   ]
  },
  {
   "cell_type": "code",
   "execution_count": 11,
   "id": "e8cd070b",
   "metadata": {},
   "outputs": [
    {
     "data": {
      "text/plain": [
       "tensor([[1., 0., 0., 0., 0., 0.],\n",
       "        [1., 0., 0., 0., 0., 0.],\n",
       "        [1., 0., 0., 0., 0., 0.],\n",
       "        ...,\n",
       "        [0., 0., 1., 0., 0., 0.],\n",
       "        [0., 0., 1., 0., 0., 0.],\n",
       "        [0., 0., 1., 0., 0., 0.]])"
      ]
     },
     "execution_count": 11,
     "metadata": {},
     "output_type": "execute_result"
    }
   ],
   "source": [
    "unique_gametypes = df_games['gameType'].unique()\n",
    "type_to_index = {gametype: idx for idx, gametype in enumerate(unique_gametypes)}\n",
    "labels_gametype= torch.tensor(df_games['gameType'].map(type_to_index).values)\n",
    "one_hot_gametype = F.one_hot(labels_gametype, num_classes=len(unique_gametypes)).float()\n",
    "one_hot_gametype"
   ]
  },
  {
   "cell_type": "code",
   "execution_count": 12,
   "id": "795b709c",
   "metadata": {},
   "outputs": [
    {
     "data": {
      "text/plain": [
       "['gametype_Regular Season',\n",
       " 'gametype_Preseason',\n",
       " 'gametype_Playoffs',\n",
       " 'gametype_Play-in Tournament',\n",
       " 'gametype_NBA Cup',\n",
       " 'gametype_NBA Emirates Cup']"
      ]
     },
     "execution_count": 12,
     "metadata": {},
     "output_type": "execute_result"
    }
   ],
   "source": [
    "gametype_features = ['gametype_' + key for key in type_to_index.keys()]\n",
    "gametype_features\n",
    "# 6 game types"
   ]
  },
  {
   "cell_type": "markdown",
   "id": "6561832b",
   "metadata": {},
   "source": [
    "Turning `df_games` into tensor for PyTorch"
   ]
  },
  {
   "cell_type": "code",
   "execution_count": 13,
   "id": "fbac9410",
   "metadata": {},
   "outputs": [],
   "source": [
    "scaler = StandardScaler()\n",
    "# scaling the numerical columns\n",
    "for col in df_games.columns:\n",
    "    if df_games[col].dtype in ['float64', 'int64']:\n",
    "        df_games[[col]] = scaler.fit_transform(df_games[[col]])\n",
    "        \n",
    "# standardizing all numeric variables in df_games\n",
    "\n",
    "\n",
    "# creating tensor\n",
    "tensor_games = torch.tensor(df_games.drop(columns=['hometeamName','awayteamName','winner','gameType']).values)\n",
    "tensor_numeric = torch.cat([tensor_games,one_hot_hometeam, one_hot_awayteam,one_hot_winner, one_hot_gametype], axis=1)"
   ]
  },
  {
   "cell_type": "code",
   "execution_count": 14,
   "id": "234291f2",
   "metadata": {},
   "outputs": [
    {
     "data": {
      "text/plain": [
       "['homeScore',\n",
       " 'awayScore',\n",
       " 'attendance',\n",
       " 'win_home',\n",
       " 'assists_home',\n",
       " 'blocks_home',\n",
       " 'steals_home',\n",
       " 'fieldGoalsAttempted_home',\n",
       " 'fieldGoalsMade_home',\n",
       " 'fieldGoalsPercentage_home',\n",
       " 'threePointersAttempted_home',\n",
       " 'threePointersMade_home',\n",
       " 'threePointersPercentage_home',\n",
       " 'freeThrowsAttempted_home',\n",
       " 'freeThrowsMade_home',\n",
       " 'freeThrowsPercentage_home',\n",
       " 'reboundsDefensive_home',\n",
       " 'reboundsOffensive_home',\n",
       " 'reboundsTotal_home',\n",
       " 'foulsPersonal_home',\n",
       " 'turnovers_home',\n",
       " 'plusMinusPoints_home',\n",
       " 'assists_away',\n",
       " 'blocks_away',\n",
       " 'steals_away',\n",
       " 'fieldGoalsAttempted_away',\n",
       " 'fieldGoalsMade_away',\n",
       " 'fieldGoalsPercentage_away',\n",
       " 'threePointersAttempted_away',\n",
       " 'threePointersMade_away',\n",
       " 'threePointersPercentage_away',\n",
       " 'freeThrowsAttempted_away',\n",
       " 'freeThrowsMade_away',\n",
       " 'freeThrowsPercentage_away',\n",
       " 'reboundsDefensive_away',\n",
       " 'reboundsOffensive_away',\n",
       " 'reboundsTotal_away',\n",
       " 'foulsPersonal_away',\n",
       " 'turnovers_away',\n",
       " 'plusMinusPoints_away',\n",
       " 'hometeam_Jazz',\n",
       " 'hometeam_Kings',\n",
       " 'hometeam_Thunder',\n",
       " 'hometeam_Hawks',\n",
       " 'hometeam_Pistons',\n",
       " 'hometeam_Pacers',\n",
       " 'hometeam_76ers',\n",
       " 'hometeam_Wizards',\n",
       " 'hometeam_Timberwolves',\n",
       " 'hometeam_Pelicans',\n",
       " 'hometeam_Cavaliers',\n",
       " 'hometeam_Magic',\n",
       " 'hometeam_Raptors',\n",
       " 'hometeam_Bucks',\n",
       " 'hometeam_Warriors',\n",
       " 'hometeam_Celtics',\n",
       " 'hometeam_Trail_Blazers',\n",
       " 'hometeam_Nuggets',\n",
       " 'hometeam_Bulls',\n",
       " 'hometeam_Rockets',\n",
       " 'hometeam_Spurs',\n",
       " 'hometeam_Mavericks',\n",
       " 'hometeam_Nets',\n",
       " 'hometeam_Knicks',\n",
       " 'hometeam_Clippers',\n",
       " 'hometeam_Suns',\n",
       " 'hometeam_Lakers',\n",
       " 'hometeam_Heat',\n",
       " 'hometeam_Grizzlies',\n",
       " 'hometeam_Hornets',\n",
       " 'hometeam_Bobcats',\n",
       " 'hometeam_SuperSonics',\n",
       " 'hometeam_Bullets',\n",
       " 'awayteam_Jazz',\n",
       " 'awayteam_Kings',\n",
       " 'awayteam_Thunder',\n",
       " 'awayteam_Hawks',\n",
       " 'awayteam_Pistons',\n",
       " 'awayteam_Pacers',\n",
       " 'awayteam_76ers',\n",
       " 'awayteam_Wizards',\n",
       " 'awayteam_Timberwolves',\n",
       " 'awayteam_Pelicans',\n",
       " 'awayteam_Cavaliers',\n",
       " 'awayteam_Magic',\n",
       " 'awayteam_Raptors',\n",
       " 'awayteam_Bucks',\n",
       " 'awayteam_Warriors',\n",
       " 'awayteam_Celtics',\n",
       " 'awayteam_Trail_Blazers',\n",
       " 'awayteam_Nuggets',\n",
       " 'awayteam_Bulls',\n",
       " 'awayteam_Rockets',\n",
       " 'awayteam_Spurs',\n",
       " 'awayteam_Mavericks',\n",
       " 'awayteam_Nets',\n",
       " 'awayteam_Knicks',\n",
       " 'awayteam_Clippers',\n",
       " 'awayteam_Suns',\n",
       " 'awayteam_Lakers',\n",
       " 'awayteam_Heat',\n",
       " 'awayteam_Grizzlies',\n",
       " 'awayteam_Hornets',\n",
       " 'awayteam_Bobcats',\n",
       " 'awayteam_SuperSonics',\n",
       " 'awayteam_Bullets',\n",
       " 'winner_Jazz',\n",
       " 'winner_Kings',\n",
       " 'winner_Thunder',\n",
       " 'winner_Hawks',\n",
       " 'winner_Pistons',\n",
       " 'winner_Pacers',\n",
       " 'winner_76ers',\n",
       " 'winner_Wizards',\n",
       " 'winner_Timberwolves',\n",
       " 'winner_Pelicans',\n",
       " 'winner_Cavaliers',\n",
       " 'winner_Magic',\n",
       " 'winner_Raptors',\n",
       " 'winner_Bucks',\n",
       " 'winner_Warriors',\n",
       " 'winner_Celtics',\n",
       " 'winner_Trail_Blazers',\n",
       " 'winner_Nuggets',\n",
       " 'winner_Bulls',\n",
       " 'winner_Rockets',\n",
       " 'winner_Spurs',\n",
       " 'winner_Mavericks',\n",
       " 'winner_Nets',\n",
       " 'winner_Knicks',\n",
       " 'winner_Clippers',\n",
       " 'winner_Suns',\n",
       " 'winner_Lakers',\n",
       " 'winner_Heat',\n",
       " 'winner_Grizzlies',\n",
       " 'winner_Hornets',\n",
       " 'winner_Bobcats',\n",
       " 'winner_SuperSonics',\n",
       " 'winner_Bullets',\n",
       " 'gametype_Regular_Season',\n",
       " 'gametype_Preseason',\n",
       " 'gametype_Playoffs',\n",
       " 'gametype_Play-in_Tournament',\n",
       " 'gametype_NBA_Cup',\n",
       " 'gametype_NBA_Emirates_Cup']"
      ]
     },
     "execution_count": 14,
     "metadata": {},
     "output_type": "execute_result"
    }
   ],
   "source": [
    "# feature names\n",
    "numeric_features = df_games.drop(columns=['hometeamName','awayteamName','winner','gameType']).columns.tolist()\n",
    "tensor_features = numeric_features +  hometeam_features + awayteam_features + winner_features + gametype_features\n",
    "tensor_features = [feat.replace(\" \",\"_\") for feat in tensor_features]\n",
    "tensor_features\n"
   ]
  },
  {
   "cell_type": "markdown",
   "id": "12689515",
   "metadata": {},
   "source": [
    "### __Step 2.__ Build Model Architecture"
   ]
  },
  {
   "cell_type": "code",
   "execution_count": 15,
   "id": "f2f7af3c",
   "metadata": {},
   "outputs": [],
   "source": [
    "class ae(nn.Module):\n",
    "    def __init__(self):\n",
    "        super().__init__() # specifies to run parent torch.nn.Module class __init__ method automatically when I initialize the child 'dae' class I'm making.\n",
    "        # Encoding layers\n",
    "        self.encoder = nn.Sequential(\n",
    "            nn.Linear(145,36),\n",
    "            nn.ReLU(),\n",
    "            nn.Linear(36, 24), \n",
    "            nn.ReLU(),\n",
    "            nn.Linear(24,8)\n",
    "        )\n",
    "        # Decoding layers\n",
    "        self.decoder = nn.Sequential(\n",
    "            nn.Linear(8,24),\n",
    "            nn.ReLU(), \n",
    "            nn.Linear(24,36), \n",
    "            nn.ReLU(),\n",
    "            nn.Linear(36, 145)\n",
    "        )\n",
    "    def forward(self,x):\n",
    "        encoded = self.encoder(x)\n",
    "        decoded = self.decoder(encoded)\n",
    "        return decoded"
   ]
  },
  {
   "cell_type": "markdown",
   "id": "b8596877",
   "metadata": {},
   "source": [
    "### __Step 3.__ Instantiate model\n",
    "* Instantiate loss function for combo of continuous and one-hot encoded variables\n",
    "> 1. We need to use the proper loss function for one-hot encoded features (binary cross-entropy; BCE).\n",
    "> 2. Then, specify a composite loss function that includes both binary feature loss (BCE) and continiuous feature loss (MSE).\n",
    "* Specify gradient descent algorithm"
   ]
  },
  {
   "cell_type": "code",
   "execution_count": 16,
   "id": "cfc2a3fa",
   "metadata": {},
   "outputs": [],
   "source": [
    "# create instantiation of the model we specified above\n",
    "model = ae()\n",
    "\n",
    "def loss_function(prediction, pattern):\n",
    "    # numeric feature loss\n",
    "    num_loss_fn = nn.MSELoss()\n",
    "    num_loss = num_loss_fn(prediction[:,:40], pattern[:,:40])\n",
    "    \n",
    "    # CrossEntropy loss to auto apply softmax ans cross entropy loss to continuous outputs that should be treated as logits\n",
    "    oh_loss_fn = nn.CrossEntropyLoss()\n",
    "    ht_loss = oh_loss_fn(prediction[:, 40:(40+33)], torch.argmax(pattern[:, 40:(40+33)],dim=1))\n",
    "    at_loss = oh_loss_fn(prediction[:, 73:(73+33)], torch.argmax(pattern[:, 73:(73+33)],dim = 1))\n",
    "    win_loss = oh_loss_fn(prediction[:, 106:(106+33)], torch.argmax(pattern[:, 106:(106+33)],dim=1))\n",
    "    gt_loss = oh_loss_fn(prediction[:, 139:145], torch.argmax(pattern[:, 139:145],dim=1))\n",
    "\n",
    "    # weights\n",
    "    weights = torch.tensor([40 / 145,33 / 145,33 / 145,33 / 145,6 / 145])\n",
    "    losses = torch.stack([num_loss,ht_loss,at_loss,win_loss,gt_loss])\n",
    "    loss = torch.dot(weights, losses)\n",
    "    return loss\n",
    "\n",
    "# AdaM (Adaptive Moment estimation) is a pretty fancy off the shelf algorithm. It involves tracking recent gradient values to dynamically control the learning rate, which aids convergence\n",
    "optimizer = torch.optim.Adam(model.parameters(),\n",
    "                             lr = 1e-1,\n",
    "                             weight_decay=1e-8)\n"
   ]
  },
  {
   "cell_type": "markdown",
   "id": "77c5d35e",
   "metadata": {},
   "source": [
    "__Step 4.__ Set up training regimen\n",
    "\n",
    "Nested cross-validation: Divide training data into outer folds, then run CV on the outer training folds. Outer fold is for validating number of hidden layers and units\n"
   ]
  },
  {
   "cell_type": "code",
   "execution_count": 17,
   "id": "8032de49",
   "metadata": {},
   "outputs": [
    {
     "name": "stdout",
     "output_type": "stream",
     "text": [
      "Epoch 2 of 2, Batch 12600    Batch size: 4, Mean loss: 2.710441303253174\n",
      "Epoch 2 of 2, Batch 4200    Batch size: 12, Mean loss: 2.6631054162979124\n",
      "Epoch 2 of 2, Batch 2100    Batch size: 24, Mean loss: 2.669318103790283\n",
      "Epoch 2 of 2, Batch 1550    Batch size: 32, Mean loss: 2.6463277339935303\n",
      "Epoch 2 of 2, Batch 750    Batch size: 64, Mean loss: 2.642873430252075\n",
      "Epoch 2 of 2, Batch 350    Batch size: 128, Mean loss: 2.640584182739258\n",
      "Epoch 2 of 2, Batch 150    Batch size: 256, Mean loss: 2.6372289180755617\n"
     ]
    }
   ],
   "source": [
    "for batch_size in [4,12,24,32,64,128,256]:\n",
    "    # prepare data for batch training\n",
    "    loader = DataLoader(tensor_numeric,batch_size = batch_size, shuffle=True)\n",
    "    # number of training epochs\n",
    "    epochs = 2\n",
    "    output = []\n",
    "    losses = []\n",
    "\n",
    "    counter = 0\n",
    "    for epoch in range(1,epochs+1):\n",
    "        for i, batch in enumerate(loader):\n",
    "            if (i % 50) == 0: \n",
    "                print(f\"\\rEpoch {epoch} of {epochs}, Batch {i}    \",end='')\n",
    "            reconstructed = model(batch.float())\n",
    "            # print(f\"\\nRECONSTRUCTED: {reconstructed}\\nRECONSTRUCTED SHAPE: {reconstructed.shape}\")\n",
    "            loss = loss_function(reconstructed, batch.float())\n",
    "            # print(f\"Batch {i} Loss: {loss.item()}\")\n",
    "            # zero gradients\n",
    "            optimizer.zero_grad()\n",
    "            # backprop\n",
    "            loss.backward()\n",
    "            # update weights\n",
    "            optimizer.step()\n",
    "            # store losses\n",
    "            losses.append(loss.item())\n",
    "            # store output6\n",
    "            counter += 1\n",
    "            output.append((epoch,loss,counter))\n",
    "    print(f\"Batch size: {batch_size}, Mean loss: {np.mean(losses[-10:])}\")"
   ]
  },
  {
   "cell_type": "code",
   "execution_count": 18,
   "id": "41405a72",
   "metadata": {},
   "outputs": [],
   "source": [
    "def descriptives(list):\n",
    "    import numpy as np\n",
    "    print(f'Mean:   {np.mean(list).round(2)}')\n",
    "    print(f'SD:     {np.std(list).round(2)}')\n",
    "    print(f'Median: {np.median(list).round(2)}')\n",
    "    print(f'Min:    {np.min(list).round(2)}')\n",
    "    print(f'Max:    {np.max(list).round(2)}')"
   ]
  },
  {
   "cell_type": "code",
   "execution_count": 19,
   "id": "e2f322fb",
   "metadata": {},
   "outputs": [
    {
     "data": {
      "image/png": "[encoded data removed]",
      "text/plain": [
       "<Figure size 640x480 with 1 Axes>"
      ]
     },
     "metadata": {},
     "output_type": "display_data"
    }
   ],
   "source": [
    "plt.hist(losses,bins=100)\n",
    "plt.show()"
   ]
  },
  {
   "cell_type": "code",
   "execution_count": 20,
   "id": "205183dd",
   "metadata": {},
   "outputs": [
    {
     "name": "stdout",
     "output_type": "stream",
     "text": [
      "Mean:   2.64\n",
      "SD:     0.01\n",
      "Median: 2.64\n",
      "Min:    2.61\n",
      "Max:    2.71\n"
     ]
    }
   ],
   "source": [
    "descriptives(losses)"
   ]
  },
  {
   "cell_type": "code",
   "execution_count": 21,
   "id": "b2bfa38e",
   "metadata": {},
   "outputs": [],
   "source": [
    "idx = list(range(1,len(losses),25))\n",
    "\n",
    "subset = [losses[i] for i in idx]"
   ]
  },
  {
   "cell_type": "code",
   "execution_count": 22,
   "id": "375888fb",
   "metadata": {},
   "outputs": [
    {
     "data": {
      "image/png": "[encoded data removed]",
      "text/plain": [
       "<Figure size 1600x400 with 1 Axes>"
      ]
     },
     "metadata": {},
     "output_type": "display_data"
    }
   ],
   "source": [
    "plt.figure(figsize=(16,4))\n",
    "plt.plot(subset, label='Losses')\n",
    "plt.xlabel('Iterations')\n",
    "plt.ylabel('Loss')\n",
    "plt.title('Loss of First Autoencoder')\n",
    "plt.show()"
   ]
  },
  {
   "cell_type": "markdown",
   "id": "f8c465bc",
   "metadata": {},
   "source": [
    "### Tweaking Loss Function\n",
    "\n",
    "\n",
    "I tried different things:\n",
    "\n",
    "* changed the weights\n",
    "\n",
    "* changed the loss to just be calculated with `win` feature"
   ]
  },
  {
   "cell_type": "code",
   "execution_count": null,
   "id": "d3d44d57",
   "metadata": {},
   "outputs": [],
   "source": [
    "# Set weights for loss function\n",
    "weights = torch.tensor([0.0, 0.3, 0.2, 0.5, 0.00])\n",
    "\n",
    "def loss_function(prediction, pattern):\n",
    "    # Numeric feature loss (output remains to be treated as numeric).\n",
    "    num_loss_fn = nn.MSELoss()\n",
    "\n",
    "    num_loss = num_loss_fn(prediction[:,:40], pattern[:,:40])\n",
    "    \n",
    "    # CrossEntropy loss to auto apply softmax and cross entropy loss (the continuous outputs\n",
    "    # for these are treated as logits).\n",
    "    # These are the one-hot encoded features\n",
    "    oh_loss_fn = nn.CrossEntropyLoss()\n",
    "\n",
    "    ht_loss = oh_loss_fn(prediction[:, 40:(40+33)], torch.argmax(pattern[:, 40:(40+33)],dim=1))\n",
    "    \n",
    "    at_loss = oh_loss_fn(prediction[:, 73:(73+33)], torch.argmax(pattern[:, 73:(73+33)],dim = 1))\n",
    "    \n",
    "    win_loss = oh_loss_fn(prediction[:, 106:(106+33)], torch.argmax(pattern[:, 106:(106+33)],dim=1))\n",
    "    \n",
    "    gt_loss = oh_loss_fn(prediction[:, 139:145], torch.argmax(pattern[:, 139:145],dim=1))\n",
    "\n",
    "    losses = torch.stack([num_loss,ht_loss,at_loss,win_loss,gt_loss])\n",
    "    loss = torch.dot(weights, losses)\n",
    "    return loss"
   ]
  },
  {
   "cell_type": "code",
   "execution_count": 25,
   "id": "f1cc69fc",
   "metadata": {},
   "outputs": [
    {
     "data": {
      "image/png": "[encoded data removed]",
      "text/plain": [
       "<Figure size 1000x600 with 1 Axes>"
      ]
     },
     "metadata": {},
     "output_type": "display_data"
    }
   ],
   "source": [
    "# will keep playing with these values\n",
    "# mostly for testing purposes\n",
    "\n",
    "# prepare data for batch training\n",
    "loader = DataLoader(tensor_numeric,batch_size = 64, shuffle=True)\n",
    "# number of training epochs\n",
    "epochs = 2\n",
    "\n",
    "iterations = epochs * len(loader)\n",
    "\n",
    "output = []\n",
    "losses = []\n",
    "\n",
    "counter = 0\n",
    "for epoch in range(1,epochs+1):\n",
    "    for i, batch in enumerate(loader):\n",
    "        reconstructed = model(batch.float())\n",
    "        # print(f\"\\nRECONSTRUCTED: {reconstructed}\\nRECONSTRUCTED SHAPE: {reconstructed.shape}\")\n",
    "        loss = loss_function(reconstructed, batch.float())\n",
    "        # print(f\"Batch {i} Loss: {loss.item()}\")\n",
    "        # zero gradients\n",
    "        optimizer.zero_grad()\n",
    "        # backprop\n",
    "        loss.backward()\n",
    "        # update weights\n",
    "        optimizer.step()\n",
    "        # store losses\n",
    "        losses.append(loss.item())\n",
    "        # store output6\n",
    "        counter += 1\n",
    "        output.append((epoch,loss,counter))\n",
    "        if(i % 25):\n",
    "            clear_output(wait=True)\n",
    "            plt.figure(figsize=(10,6))\n",
    "            plt.plot(losses, label='Losses')\n",
    "            plt.xlabel(\"Iterations\")\n",
    "            # plt.xlim(0, iterations)\n",
    "            # plt.ylim(0, 3)\n",
    "            plt.ylabel(\"Loss\")\n",
    "            plt.title(f\"Loss Weights: {np.array(weights.\n",
    "            tolist()).round(2)}\")\n",
    "            plt.show()"
   ]
  }
 ],
 "metadata": {
  "kernelspec": {
   "display_name": "Python 3",
   "language": "python",
   "name": "python3"
  },
  "language_info": {
   "codemirror_mode": {
    "name": "ipython",
    "version": 3
   },
   "file_extension": ".py",
   "mimetype": "text/x-python",
   "name": "python",
   "nbconvert_exporter": "python",
   "pygments_lexer": "ipython3",
   "version": "3.12.8"
  }
 },
 "nbformat": 4,
 "nbformat_minor": 5
}
