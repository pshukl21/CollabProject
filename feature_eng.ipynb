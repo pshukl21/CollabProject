{
 "cells": [
  {
   "cell_type": "markdown",
   "id": "691d33a0",
   "metadata": {},
   "source": [
    "# Feature Engineering"
   ]
  },
  {
   "cell_type": "code",
   "execution_count": 4,
   "id": "598d1f74",
   "metadata": {},
   "outputs": [],
   "source": [
    "import pandas as pd"
   ]
  },
  {
   "cell_type": "code",
   "execution_count": 8,
   "id": "2bd6d50e",
   "metadata": {},
   "outputs": [
    {
     "data": {
      "text/plain": [
       "gameId                            int64\n",
       "gameDate                         object\n",
       "hometeamName                     object\n",
       "awayteamName                     object\n",
       "homeScore                         int64\n",
       "awayScore                         int64\n",
       "winner                           object\n",
       "gameType                         object\n",
       "attendance                      float64\n",
       "win_home                          int64\n",
       "assists_home                    float64\n",
       "blocks_home                     float64\n",
       "steals_home                     float64\n",
       "fieldGoalsAttempted_home        float64\n",
       "fieldGoalsMade_home             float64\n",
       "fieldGoalsPercentage_home       float64\n",
       "threePointersAttempted_home     float64\n",
       "threePointersMade_home          float64\n",
       "threePointersPercentage_home    float64\n",
       "freeThrowsAttempted_home        float64\n",
       "freeThrowsMade_home             float64\n",
       "freeThrowsPercentage_home       float64\n",
       "reboundsDefensive_home          float64\n",
       "reboundsOffensive_home          float64\n",
       "reboundsTotal_home              float64\n",
       "foulsPersonal_home              float64\n",
       "turnovers_home                  float64\n",
       "plusMinusPoints_home            float64\n",
       "assists_away                    float64\n",
       "blocks_away                     float64\n",
       "steals_away                     float64\n",
       "fieldGoalsAttempted_away        float64\n",
       "fieldGoalsMade_away             float64\n",
       "fieldGoalsPercentage_away       float64\n",
       "threePointersAttempted_away     float64\n",
       "threePointersMade_away          float64\n",
       "threePointersPercentage_away    float64\n",
       "freeThrowsAttempted_away        float64\n",
       "freeThrowsMade_away             float64\n",
       "freeThrowsPercentage_away       float64\n",
       "reboundsDefensive_away          float64\n",
       "reboundsOffensive_away          float64\n",
       "reboundsTotal_away              float64\n",
       "foulsPersonal_away              float64\n",
       "turnovers_away                  float64\n",
       "plusMinusPoints_away            float64\n",
       "dtype: object"
      ]
     },
     "execution_count": 8,
     "metadata": {},
     "output_type": "execute_result"
    }
   ],
   "source": [
    "df = pd.read_csv(\"df_games_output.csv\")\n",
    "df.head()\n",
    "df.dtypes"
   ]
  },
  {
   "cell_type": "code",
   "execution_count": null,
   "id": "694d75c5",
   "metadata": {},
   "outputs": [],
   "source": []
  }
 ],
 "metadata": {
  "kernelspec": {
   "display_name": "Python 3",
   "language": "python",
   "name": "python3"
  },
  "language_info": {
   "codemirror_mode": {
    "name": "ipython",
    "version": 3
   },
   "file_extension": ".py",
   "mimetype": "text/x-python",
   "name": "python",
   "nbconvert_exporter": "python",
   "pygments_lexer": "ipython3",
   "version": "3.12.8"
  }
 },
 "nbformat": 4,
 "nbformat_minor": 5
}
